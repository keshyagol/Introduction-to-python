{
  "cells": [
    {
      "metadata": {},
      "cell_type": "markdown",
      "source": "# 2-3 Intro Python Practice  \n## power iteration of sequences\n\n<font size=\"5\" color=\"#00A0B2\"  face=\"verdana\"> <B>Student will be able to</B></font>  \n- Iterate through Lists using **`for`** and **`in`**\n- Use **`for` *`count`* `in range()`** in looping operations  \n- Use list methods **`.extend()`, `+, .reverse(), .sort()`**  \n- convert between lists and strings using  **`.split()`** and **`.join()`**\n- cast strings to lists **/** direct multiple print outputs to a single line.  ** `print(\"hi\", end='')`**"
    },
    {
      "metadata": {},
      "cell_type": "markdown",
      "source": "# &nbsp;\n<font size=\"6\" color=\"#B24C00\"  face=\"verdana\"> <B>Task 1</B></font>\n##  list iteration: `for in`\n### `for item in list:`"
    },
    {
      "metadata": {
        "trusted": false
      },
      "cell_type": "code",
      "source": "# [ ] print out the \"physical states of matter\" (matter_states) in 4 sentences using list iteration\n# each sentence should be of the format: \"Solid - is state of matter #1\" \nstate=\"\"\nmatter_states = ['solid', 'liquid', 'gas', 'plasma']\nfor iten in matter_states:\n    state+=item\n    print(\"physical states of matter\")\n    \n",
      "execution_count": null,
      "outputs": []
    },
    {
      "metadata": {
        "trusted": true
      },
      "cell_type": "code",
      "source": "# [ ] iterate the list (birds) to see any bird names start with \"c\" and remove that item from the list\n# print the birds list before and after removals\nbirds = [\"turkey\", \"hawk\", \"Chicken\", \"dove\", \"Crow\"]\n\nfor item in birds:\n    if item.lower().startswith(\"c\"):\n        print(\"list before removing: \",birds)\n        birds.remove(item)\n        print(\"list after removing: \",birds)\n    else:\n            pass\n           \n        \n\n",
      "execution_count": 18,
      "outputs": [
        {
          "output_type": "stream",
          "text": "list before removing:  ['turkey', 'hawk', 'Chicken', 'dove', 'Crow']\nlist after removing:  ['turkey', 'hawk', 'dove', 'Crow']\nlist before removing:  ['turkey', 'hawk', 'dove', 'Crow']\nlist after removing:  ['turkey', 'hawk', 'dove']\n",
          "name": "stdout"
        }
      ]
    },
    {
      "metadata": {
        "trusted": true
      },
      "cell_type": "code",
      "source": "# the team makes 1pt, 2pt or 3pt baskets\n# [ ] print the occurace of each type of basket(1pt, 2pt, 3pt) & total points using the list baskets\nfirst=0\nsecond=0\nthird=0\nbaskets = [2,2,2,1,2,1,3,3,1,2,2,2,2,1,3]\n\nfor item in baskets:\n    if item==1:\n        first+=1\n        \n    elif item==2:\n        second+=1\n     \n    else:\n        third+=1\n    print(\"1pt: \",first)\n    print(\"2pt : \",second)\n    print(\"3pt: \", third)\n\n",
      "execution_count": 29,
      "outputs": [
        {
          "output_type": "stream",
          "text": "1pt:  0\n2pt :  1\n3pt:  0\n1pt:  0\n2pt :  2\n3pt:  0\n1pt:  0\n2pt :  3\n3pt:  0\n1pt:  1\n2pt :  3\n3pt:  0\n1pt:  1\n2pt :  4\n3pt:  0\n1pt:  2\n2pt :  4\n3pt:  0\n1pt:  2\n2pt :  4\n3pt:  1\n1pt:  2\n2pt :  4\n3pt:  2\n1pt:  3\n2pt :  4\n3pt:  2\n1pt:  3\n2pt :  5\n3pt:  2\n1pt:  3\n2pt :  6\n3pt:  2\n1pt:  3\n2pt :  7\n3pt:  2\n1pt:  3\n2pt :  8\n3pt:  2\n1pt:  4\n2pt :  8\n3pt:  2\n1pt:  4\n2pt :  8\n3pt:  3\n",
          "name": "stdout"
        }
      ]
    },
    {
      "metadata": {},
      "cell_type": "markdown",
      "source": "# &nbsp;\n<font size=\"6\" color=\"#B24C00\"  face=\"verdana\"> <B>Task 2</B></font>\n##  iteration with `range(start)` & `range(start,stop)`\n"
    },
    {
      "metadata": {
        "trusted": true
      },
      "cell_type": "code",
      "source": "# [ ] using range() print \"hello\" 4 times\nhe_ll=list(range(4))\nprint(he_ll)\nfor item in he_ll:\n    print(\"Hello World\")\n\n",
      "execution_count": 34,
      "outputs": [
        {
          "output_type": "stream",
          "text": "[0, 1, 2, 3]\nHello World\nHello World\nHello World\nHello World\n",
          "name": "stdout"
        }
      ]
    },
    {
      "metadata": {
        "trusted": true
      },
      "cell_type": "code",
      "source": "# [ ] find spell_list length\n# [ ] use range() to iterate each half of spell_list  \n# [ ] label & print the first and second halves\nspell_list = [\"Tuesday\", \"Wednesday\", \"February\", \"November\", \"Annual\", \"Calendar\", \"Solstice\"]\nspell_len=int(len(spell_list)/2)\nf_half=\nfor item in range (spell_len) :\n    print(spell_list[item])\n\n    \n",
      "execution_count": 58,
      "outputs": [
        {
          "output_type": "stream",
          "text": "Tuesday\nWednesday\nFebruary\n",
          "name": "stdout"
        }
      ]
    },
    {
      "metadata": {
        "trusted": true
      },
      "cell_type": "code",
      "source": "# [ ] build a list of numbers from 20 to 29: twenties \n# append each number to twenties list using range(start,stop) iteration\n# [ ] print twenties\ntwenties = []\nfor item in range(20,30):\n    twenties.append(item)\nprint(twenties)\n\n",
      "execution_count": 13,
      "outputs": [
        {
          "output_type": "stream",
          "text": "[20, 21, 22, 23, 24, 25, 26, 27, 28, 29]\n",
          "name": "stdout"
        }
      ]
    },
    {
      "metadata": {
        "trusted": true
      },
      "cell_type": "code",
      "source": "# [ ] iterate through the numbers populated in the list twenties and add each number to a variable: total\n# [ ] print total\ntotal = 0\nfor item in twenties:\n        total+=item\n        print(total)\n",
      "execution_count": 11,
      "outputs": [
        {
          "output_type": "stream",
          "text": "20\n41\n63\n86\n110\n135\n161\n188\n216\n245\n",
          "name": "stdout"
        }
      ]
    },
    {
      "metadata": {
        "trusted": true
      },
      "cell_type": "code",
      "source": "# check your answer above using range(start,stop)\n# [ ] iterate each number from 20 to 29 using range()\n# [ ] add each number to a variable (total) to calculate the sum\n# should match earlier task \ntwenties = []\ntotal = 0\nfor item in range(20,30):\n    twenties.append(item)\nfor item in twenties:\n        total+=item\n        print(total)\n",
      "execution_count": 14,
      "outputs": [
        {
          "output_type": "stream",
          "text": "20\n41\n63\n86\n110\n135\n161\n188\n216\n245\n",
          "name": "stdout"
        }
      ]
    },
    {
      "metadata": {},
      "cell_type": "markdown",
      "source": "# &nbsp;\n<font size=\"6\" color=\"#B24C00\"  face=\"verdana\"> <B>Task 3</B></font>\n##  iteration with `range(start:stop:skip)`\n"
    },
    {
      "metadata": {
        "trusted": true
      },
      "cell_type": "code",
      "source": "# [ ] create a list of odd numbers (odd_nums) from 1 to 25 using range(start,stop,skip)\nodd_nums=[]\nfor items in range(1,25,2):\n    odd_nums.append(items)\n# [ ] print odd_nums\nprint(odd_nums)\n# hint: odd numbers are 2 digits apart\n\n",
      "execution_count": 17,
      "outputs": [
        {
          "output_type": "stream",
          "text": "[1, 3, 5, 7, 9, 11, 13, 15, 17, 19, 21, 23]\n",
          "name": "stdout"
        }
      ]
    },
    {
      "metadata": {
        "trusted": true
      },
      "cell_type": "code",
      "source": "#### [ ] create a Decending list of odd numbers (odd_nums) from 25 to 1 using range(start,stop,skip)\nodd_nums=[]\nfor item in range(1,27,2):\n    odd_nums.append(item)\n\n# [ ] print odd_nums,  output should resemble [25, 23, ...]\nodd_nums.reverse()\nprint(odd_nums)\n\n  \n\n\n",
      "execution_count": 14,
      "outputs": [
        {
          "output_type": "stream",
          "text": "[25, 23, 21, 19, 17, 15, 13, 11, 9, 7, 5, 3, 1]\n",
          "name": "stdout"
        }
      ]
    },
    {
      "metadata": {
        "trusted": true
      },
      "cell_type": "code",
      "source": "# the list, elements, contains the names of the first 20 elements in atomic number order\n# [ ] print the even number elements \"2 - Helium, 4 - Beryllium,..\" in the list with the atomic number\nelements = ['Hydrogen', 'Helium', 'Lithium', 'Beryllium', 'Boron', 'Carbon', 'Nitrogen', 'Oxygen', 'Fluorine', \\\n 'Neon', 'Sodium', 'Magnesium', 'Aluminum', 'Silicon', 'Phosphorus', 'Sulfur', 'Chlorine', 'Argon', \\\n 'Potassium', 'Calcium']\n\nelement_len=len(elements)\nnew_ele=list(range(2,element_len,1))\nprint(new_ele)\n\nfor items in new_ele:\n    print(elements[items],\"is having atomic number of: \",items)\n",
      "execution_count": 29,
      "outputs": [
        {
          "output_type": "stream",
          "text": "[2, 3, 4, 5, 6, 7, 8, 9, 10, 11, 12, 13, 14, 15, 16, 17, 18, 19]\nLithium is having atomic number of:  2\nBeryllium is having atomic number of:  3\nBoron is having atomic number of:  4\nCarbon is having atomic number of:  5\nNitrogen is having atomic number of:  6\nOxygen is having atomic number of:  7\nFluorine is having atomic number of:  8\nNeon is having atomic number of:  9\nSodium is having atomic number of:  10\nMagnesium is having atomic number of:  11\nAluminum is having atomic number of:  12\nSilicon is having atomic number of:  13\nPhosphorus is having atomic number of:  14\nSulfur is having atomic number of:  15\nChlorine is having atomic number of:  16\nArgon is having atomic number of:  17\nPotassium is having atomic number of:  18\nCalcium is having atomic number of:  19\n",
          "name": "stdout"
        }
      ]
    },
    {
      "metadata": {
        "trusted": true
      },
      "cell_type": "code",
      "source": "# [ ] the list, elements_40, contains the names of the first 40 elements in atomic number order\n# [ ] print the odd number elements \"1 - Hydrogen, 3 - Lithium,..\" in the list with the atomic number elements_40\nelements_40 = ['Hydrogen', \\\n 'Helium', 'Lithium', 'Beryllium', 'Boron', 'Carbon', 'Nitrogen', 'Oxygen', 'Fluorine', \\\n 'Neon', 'Sodium', 'Magnesium', 'Aluminum', 'Silicon', 'Phosphorus', 'Sulfur', 'Chlorine', \\\n 'Argon', 'Potassium', 'Calcium', 'Scandium', 'Titanium', 'Vanadium', 'Chromium', 'Manganese', \\\n 'Iron', 'Cobalt', 'Nickel', 'Copper', 'Zinc', 'Gallium', 'Germanium', 'Arsenic', 'Selenium', \\\n 'Bromine', 'Krypton', 'Rubidium', 'Strontium', 'Yttrium', 'Zirconium']\n\nnew_ele=list(range(0,40,2))\nprint(new_ele)\n\nfor items in new_ele:\n    print(elements_40[items],\"is having atomic number of: \",items)\n",
      "execution_count": 28,
      "outputs": [
        {
          "output_type": "stream",
          "text": "[0, 2, 4, 6, 8, 10, 12, 14, 16, 18, 20, 22, 24, 26, 28, 30, 32, 34, 36, 38]\nHydrogen is having atomic number of:  0\nLithium is having atomic number of:  2\nBoron is having atomic number of:  4\nNitrogen is having atomic number of:  6\nFluorine is having atomic number of:  8\nSodium is having atomic number of:  10\nAluminum is having atomic number of:  12\nPhosphorus is having atomic number of:  14\nChlorine is having atomic number of:  16\nPotassium is having atomic number of:  18\nScandium is having atomic number of:  20\nVanadium is having atomic number of:  22\nManganese is having atomic number of:  24\nCobalt is having atomic number of:  26\nCopper is having atomic number of:  28\nGallium is having atomic number of:  30\nArsenic is having atomic number of:  32\nBromine is having atomic number of:  34\nRubidium is having atomic number of:  36\nYttrium is having atomic number of:  38\n",
          "name": "stdout"
        }
      ]
    },
    {
      "metadata": {
        "trusted": false
      },
      "cell_type": "code",
      "source": "",
      "execution_count": null,
      "outputs": []
    },
    {
      "metadata": {},
      "cell_type": "markdown",
      "source": "# &nbsp;\n<font size=\"6\" color=\"#B24C00\"  face=\"verdana\"> <B>Task 4</B></font>\n## combine lists with `+` and `.extend()`"
    },
    {
      "metadata": {
        "trusted": true
      },
      "cell_type": "code",
      "source": "# [ ] print the combined lists (numbers_1 & numbers_2) using \"+\" operator\nnumbers_1 = [20, 21, 22, 23, 24, 25, 26, 27, 28, 29]\n\n# pythonic casting of a range into a list\nnumbers_2 = list(range(30,50,2))\n\nprint(\"numbers_1:\",numbers_1)\nprint(\"numbers_2\",numbers_2)\nnew_number_list=numbers_1+numbers_2\nprint(new_number_list)\n",
      "execution_count": 2,
      "outputs": [
        {
          "output_type": "stream",
          "text": "numbers_1: [20, 21, 22, 23, 24, 25, 26, 27, 28, 29]\nnumbers_2 [30, 32, 34, 36, 38, 40, 42, 44, 46, 48]\n[20, 21, 22, 23, 24, 25, 26, 27, 28, 29, 30, 32, 34, 36, 38, 40, 42, 44, 46, 48]\n",
          "name": "stdout"
        }
      ]
    },
    {
      "metadata": {
        "trusted": true
      },
      "cell_type": "code",
      "source": "# [ ] print the combined element lists (first_row & second_row) using \".extend()\" method\nfirst_row = ['Hydrogen', 'Helium']\nsecond_row = ['Lithium', 'Beryllium', 'Boron', 'Carbon', 'Nitrogen', 'Oxygen', 'Fluorine', 'Neon']\n\nprint(\"1st Row:\", first_row)\nprint(\"2nd Row:\", second_row)\nfirst_row.extend(second_row)\nprint(first_row)\n\n",
      "execution_count": 1,
      "outputs": [
        {
          "output_type": "stream",
          "text": "1st Row: ['Hydrogen', 'Helium']\n2nd Row: ['Lithium', 'Beryllium', 'Boron', 'Carbon', 'Nitrogen', 'Oxygen', 'Fluorine', 'Neon']\n['Hydrogen', 'Helium', 'Lithium', 'Beryllium', 'Boron', 'Carbon', 'Nitrogen', 'Oxygen', 'Fluorine', 'Neon']\n",
          "name": "stdout"
        }
      ]
    },
    {
      "metadata": {},
      "cell_type": "markdown",
      "source": "## Project: Combine 3 element rows\nChoose to use **\"+\" or \".extend()\" **to build output similar to   \n\n```\nThe 1st three rows of the Period Table of Elements contain:\n['Hydrogen', 'Helium', 'Lithium', 'Beryllium', 'Boron', 'Carbon', 'Nitrogen', 'Oxygen', 'Fluorine', 'Neon', 'Sodium', 'Magnesium', 'Aluminum', 'Silicon', 'Phosphorus', 'Sulfur', 'Chlorine', 'Argon']\n\nThe row breakdown is\nRow 1: Hydrogen, Helium\nRow 2: Lithium, Beryllium, Boron, Carbon, Nitrogen, Oxygen, Fluorine, Neon\nRow 3: Sodium, Magnesium, Aluminum, Silicon, Phosphorus, Sulfur, Chlorine, Argon\n```"
    },
    {
      "metadata": {
        "trusted": true
      },
      "cell_type": "code",
      "source": "# [ ] create the program: combined 3 element rows \n\nelem_1 = ['Hydrogen', 'Helium'] \nelem_2 = ['Lithium', 'Beryllium', 'Boron', 'Carbon', 'Nitrogen', 'Oxygen', 'Fluorine', 'Neon']\nelem_3 = ['Sodium', 'Magnesium', 'Aluminum', 'Silicon', 'Phosphorus', 'Sulfur', 'Chlorine', 'Argon']\n\n\nelem_1.extend(elem_2)\nelem_1.extend(elem_3)\nprint(elem_1)\n\n",
      "execution_count": 4,
      "outputs": [
        {
          "output_type": "stream",
          "text": "['Hydrogen', 'Helium', 'Lithium', 'Beryllium', 'Boron', 'Carbon', 'Nitrogen', 'Oxygen', 'Fluorine', 'Neon', 'Sodium', 'Magnesium', 'Aluminum', 'Silicon', 'Phosphorus', 'Sulfur', 'Chlorine', 'Argon']\n",
          "name": "stdout"
        }
      ]
    },
    {
      "metadata": {
        "trusted": true
      },
      "cell_type": "code",
      "source": "# [ ] .extend() jack_jill with \"next_line\" string - print the result\njack_jill = ['Jack', 'and', 'Jill', 'went', 'up', 'the', 'hill']\nnext_line = ['To', 'fetch', 'a', 'pail', 'of', 'water']\njack_jill.extend(next_line)\nprint(jack_jill)",
      "execution_count": 5,
      "outputs": [
        {
          "output_type": "stream",
          "text": "['Jack', 'and', 'Jill', 'went', 'up', 'the', 'hill', 'To', 'fetch', 'a', 'pail', 'of', 'water']\n",
          "name": "stdout"
        }
      ]
    },
    {
      "metadata": {},
      "cell_type": "markdown",
      "source": "# &nbsp;\n<font size=\"6\" color=\"#B24C00\"  face=\"verdana\"> <B>Task 5</B></font>\n## .reverse() : reverse a list in place"
    },
    {
      "metadata": {
        "trusted": true
      },
      "cell_type": "code",
      "source": "# [ ] use .reverse() to print elements starting with \"Calcium\", \"Chlorine\",... in reverse order\nelements = ['Hydrogen', 'Helium', 'Lithium', 'Beryllium', 'Boron', 'Carbon', 'Nitrogen', 'Oxygen', 'Fluorine', \\\n 'Neon', 'Sodium', 'Magnesium', 'Aluminum', 'Silicon', 'Phosphorus', 'Sulfur', 'Chlorine', 'Argon', \\\n 'Potassium', 'Calcium']\nelements.reverse()\nprint(elements)",
      "execution_count": 7,
      "outputs": [
        {
          "output_type": "stream",
          "text": "['Calcium', 'Potassium', 'Argon', 'Chlorine', 'Sulfur', 'Phosphorus', 'Silicon', 'Aluminum', 'Magnesium', 'Sodium', 'Neon', 'Fluorine', 'Oxygen', 'Nitrogen', 'Carbon', 'Boron', 'Beryllium', 'Lithium', 'Helium', 'Hydrogen']\n",
          "name": "stdout"
        }
      ]
    },
    {
      "metadata": {
        "trusted": true
      },
      "cell_type": "code",
      "source": "# [ ] reverse order of the list... Then print only words that are 8 characters or longer from the now reversed order\nlenth=0\nspell_list = [\"Tuesday\", \"Wednesday\", \"February\", \"November\", \"Annual\", \"Calendar\", \"Solstice\"]\nspell_len=int(len(spell_list))\nprint(spell_len)\nspell_rang=list(range(spell_len))\nprint(spell_rang)\nfor item in spell_rang:\n    lenth +=item\n    if lenth>=5:\n        print(spell_list[item])\n    else:\n        pass\n\n    \n",
      "execution_count": 5,
      "outputs": [
        {
          "output_type": "stream",
          "text": "7\n[0, 1, 2, 3, 4, 5, 6]\nNovember\nAnnual\nCalendar\nSolstice\n",
          "name": "stdout"
        }
      ]
    },
    {
      "metadata": {},
      "cell_type": "markdown",
      "source": "# &nbsp;\n<font size=\"6\" color=\"#B24C00\"  face=\"verdana\"> <B>Task 6</B></font>\n## .sort() and sorted()"
    },
    {
      "metadata": {
        "trusted": true
      },
      "cell_type": "code",
      "source": "# [ ] sort the list element, so names are in alphabetical order and print elements\nelements = ['Hydrogen', 'Helium', 'Lithium', 'Beryllium', 'Boron', 'Carbon', 'Nitrogen', 'Oxygen', 'Fluorine', \\\n 'Neon', 'Sodium', 'Magnesium', 'Aluminum', 'Silicon', 'Phosphorus', 'Sulfur', 'Chlorine', 'Argon', \\\n 'Potassium', 'Calcium']\nelements.sort()\nprint(elements)",
      "execution_count": 10,
      "outputs": [
        {
          "output_type": "stream",
          "text": "['Aluminum', 'Argon', 'Beryllium', 'Boron', 'Calcium', 'Carbon', 'Chlorine', 'Fluorine', 'Helium', 'Hydrogen', 'Lithium', 'Magnesium', 'Neon', 'Nitrogen', 'Oxygen', 'Phosphorus', 'Potassium', 'Silicon', 'Sodium', 'Sulfur']\n",
          "name": "stdout"
        }
      ]
    },
    {
      "metadata": {
        "trusted": true
      },
      "cell_type": "code",
      "source": "# [ ] print the list, numbers, sorted and then below print the original numbers list \n\nnumbers = [2,2,2,1,2,1,3,3,1,2,2,2,2,1,3]\nprint(numbers)\nnumbers.sort()\nprint(numbers)",
      "execution_count": 9,
      "outputs": [
        {
          "output_type": "stream",
          "text": "[2, 2, 2, 1, 2, 1, 3, 3, 1, 2, 2, 2, 2, 1, 3]\n[1, 1, 1, 1, 2, 2, 2, 2, 2, 2, 2, 2, 3, 3, 3]\n",
          "name": "stdout"
        }
      ]
    },
    {
      "metadata": {},
      "cell_type": "markdown",
      "source": "# &nbsp;\n<font size=\"6\" color=\"#B24C00\"  face=\"verdana\"> <B>Task 7</B></font>\n## Converting a string to a list with `.split()`"
    },
    {
      "metadata": {
        "trusted": true
      },
      "cell_type": "code",
      "source": "# [ ] split the string, daily_fact, into a list of word strings: fact_words\n# [ ] print each string in fact_words in upper case on its own line\ndaily_fact = \"Did you know that there are 1.4 billion students in the world?\"\nnew_daily=daily_fact.upper().split()\nprint(new_daily)\n\n",
      "execution_count": 16,
      "outputs": [
        {
          "output_type": "stream",
          "text": "['DID', 'YOU', 'KNOW', 'THAT', 'THERE', 'ARE', '1.4', 'BILLION', 'STUDENTS', 'IN', 'THE', 'WORLD?'] \n\n",
          "name": "stdout"
        }
      ]
    },
    {
      "metadata": {
        "trusted": false
      },
      "cell_type": "code",
      "source": "# [ ] convert the string, code_tip, into a list made from splitting on the letter \"o\"\n\n\n",
      "execution_count": null,
      "outputs": []
    },
    {
      "metadata": {
        "trusted": true
      },
      "cell_type": "code",
      "source": "# [ ] split poem on \"b\" to create a list: poem_words\n# [ ] print poem_words by iterating the list\npoem = \"The bright brain, has bran!\"\npoem_words.split()\nprint(poem_words)",
      "execution_count": null,
      "outputs": []
    },
    {
      "metadata": {},
      "cell_type": "markdown",
      "source": "# &nbsp;\n<font size=\"6\" color=\"#B24C00\"  face=\"verdana\"> <B>Task 8</B></font>\n## `.join()`\n### build a string from a list"
    },
    {
      "metadata": {
        "trusted": true
      },
      "cell_type": "code",
      "source": "# [ ] print a comma separated string output from the list of Halogen elements using \".join()\"\nhalogens = ['Chlorine', 'Florine', 'Bromine', 'Iodine']\nprint(' '.join(halogens))",
      "execution_count": 10,
      "outputs": [
        {
          "output_type": "stream",
          "text": "Chlorine Florine Bromine Iodine\n",
          "name": "stdout"
        }
      ]
    },
    {
      "metadata": {
        "trusted": true
      },
      "cell_type": "code",
      "source": "# [ ] split the sentence, code_tip, into a words list\n# [ ] print the joined words in the list with no spaces in-between\n# [ ] Bonus: capitalize each word in the list before .join()\ncode_tip =\"Read code aloud or explain the code step by step to a peer\"\n\nsp_tip=code_tip.split()\nprint(sp_tip)\n\nprint(sp_tip.join(''))",
      "execution_count": 12,
      "outputs": [
        {
          "output_type": "stream",
          "text": "['Read', 'code', 'aloud', 'or', 'explain', 'the', 'code', 'step', 'by', 'step', 'to', 'a', 'peer']\n",
          "name": "stdout"
        },
        {
          "output_type": "error",
          "ename": "AttributeError",
          "evalue": "'list' object has no attribute 'join'",
          "traceback": [
            "\u001b[0;31m---------------------------------------------------------------------------\u001b[0m",
            "\u001b[0;31mAttributeError\u001b[0m                            Traceback (most recent call last)",
            "\u001b[0;32m<ipython-input-12-8e491c8ec2c8>\u001b[0m in \u001b[0;36m<module>\u001b[0;34m()\u001b[0m\n\u001b[1;32m      7\u001b[0m \u001b[0mprint\u001b[0m\u001b[0;34m(\u001b[0m\u001b[0msp_tip\u001b[0m\u001b[0;34m)\u001b[0m\u001b[0;34m\u001b[0m\u001b[0m\n\u001b[1;32m      8\u001b[0m \u001b[0;34m\u001b[0m\u001b[0m\n\u001b[0;32m----> 9\u001b[0;31m \u001b[0mprint\u001b[0m\u001b[0;34m(\u001b[0m\u001b[0msp_tip\u001b[0m\u001b[0;34m.\u001b[0m\u001b[0mjoin\u001b[0m\u001b[0;34m(\u001b[0m\u001b[0;34m''\u001b[0m\u001b[0;34m)\u001b[0m\u001b[0;34m)\u001b[0m\u001b[0;34m\u001b[0m\u001b[0m\n\u001b[0m",
            "\u001b[0;31mAttributeError\u001b[0m: 'list' object has no attribute 'join'"
          ]
        }
      ]
    },
    {
      "metadata": {},
      "cell_type": "markdown",
      "source": "# &nbsp;\n<font size=\"6\" color=\"#B24C00\"  face=\"verdana\"> <B>Task 9</B></font>  \n## `list(string)` & `print(\"hello\",end=' ')`\n\n- **Cast a string to a list** \n- **print to the same line**   "
    },
    {
      "metadata": {
        "trusted": true
      },
      "cell_type": "code",
      "source": "# [ ] cast the long_word into individual letters list \n# [ ] print each letter on a line\nlong_word = 'decelerating'\nind_let=list(long_word)\nprint(ind_let)\n\n",
      "execution_count": 13,
      "outputs": [
        {
          "output_type": "stream",
          "text": "['d', 'e', 'c', 'e', 'l', 'e', 'r', 'a', 't', 'i', 'n', 'g']\n",
          "name": "stdout"
        }
      ]
    },
    {
      "metadata": {
        "trusted": true
      },
      "cell_type": "code",
      "source": "# [ ] use use end= in print to output each string in questions with a \"?\" and on new lines\nquestions = [\"What's the closest planet to the Sun\", \"How deep do Dolphins swim\", \"What time is it\"]\nfor item in questions:\n    print(item,end=\"?\\n\")\n\n\n",
      "execution_count": 27,
      "outputs": [
        {
          "output_type": "stream",
          "text": "What's the closest planet to the Sun?\nHow deep do Dolphins swim?\nWhat time is it?\n",
          "name": "stdout"
        }
      ]
    },
    {
      "metadata": {
        "trusted": true
      },
      "cell_type": "code",
      "source": "# [ ] print each item in foot bones \n#    - capitalized, both words if two word name\n#    - separated by a comma and space\n#    - and keeping on a single print line\nlenth=0\nfoot_bones = [\"calcaneus\", \"talus\", \"cuboid\", \"navicular\", \"lateral cuneiform\", \n            \"intermediate cuneiform\", \"medial cuneiform\",'KIRAN']\n\nfoot_len=int(len(foot_bones))\nprint(foot_len)\nfoot_rang=list(range(foot_len))\nprint(foot_rang)\nfor item in foot_rang:\n    lenth +=item\n    if lenth>=2:\n        print(foot_bones[item])\n    else:\n        pass\n",
      "execution_count": 34,
      "outputs": [
        {
          "output_type": "stream",
          "text": "8\n[0, 1, 2, 3, 4, 5, 6, 7]\ncuboid\nnavicular\nlateral cuneiform\nintermediate cuneiform\nmedial cuneiform\nKIRAN\n",
          "name": "stdout"
        }
      ]
    },
    {
      "metadata": {},
      "cell_type": "markdown",
      "source": "[Terms of use](http://go.microsoft.com/fwlink/?LinkID=206977) &nbsp; [Privacy & cookies](https://go.microsoft.com/fwlink/?LinkId=521839) &nbsp; © 2017 Microsoft"
    }
  ],
  "metadata": {
    "anaconda-cloud": {},
    "kernelspec": {
      "name": "python3",
      "display_name": "Python 3",
      "language": "python"
    },
    "language_info": {
      "mimetype": "text/x-python",
      "nbconvert_exporter": "python",
      "name": "python",
      "pygments_lexer": "ipython3",
      "version": "3.5.4",
      "file_extension": ".py",
      "codemirror_mode": {
        "version": 3,
        "name": "ipython"
      }
    }
  },
  "nbformat": 4,
  "nbformat_minor": 1
}