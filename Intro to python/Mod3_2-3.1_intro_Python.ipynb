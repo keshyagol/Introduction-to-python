{
  "cells": [
    {
      "metadata": {},
      "cell_type": "markdown",
      "source": "# 2-3.1 Intro Python\n# The Power of List Iteration\n- **for in: `for` loop using `in`**\n- for range: **`for range(start,stop,step)`** \n- more list methods: **`.extend()`, `+, .reverse(), .sort()`**   \n- strings to lists, **`.split()`**, and list to strings, **`.join()`**   \n\n\n----- \n\n><font size=\"5\" color=\"#00A0B2\"  face=\"verdana\"> <B>Student will be able to</B></font>  \n- **Iterate through Lists** using **`for`** with **`in`**\n- Use **`for range()`** in looping operations  \n- Use list methods **`.extend()`, `+, .reverse(), .sort()`**  \n- convert between lists and strings using  **`.split()`** and **`.join()`**  "
    },
    {
      "metadata": {
        "collapsed": true
      },
      "cell_type": "markdown",
      "source": "# &nbsp;\n<font size=\"6\" color=\"#00A0B2\"  face=\"verdana\"> <B>Concepts</B></font>\n## Iterate through Lists using \n# ` for in`\n[![view video](https://iajupyterprodblobs.blob.core.windows.net/imagecontainer/common/play_video.png)]( http://edxinteractivepage.blob.core.windows.net/edxpages/f7cff1a7-5601-48a1-95a6-fd1fdfabd20e.html?details=[{\"src\":\"http://jupyternootbookwams.streaming.mediaservices.windows.net/3545f443-d2b5-4d77-9a8c-cfe07976c697/Unit2_Section3.1a-Iterate_through_Lists.ism/manifest\",\"type\":\"application/vnd.ms-sstr+xml\"}],[{\"src\":\"http://jupyternootbookwams.streaming.mediaservices.windows.net/3545f443-d2b5-4d77-9a8c-cfe07976c697/Unit2_Section3.1a-Iterate_through_Lists.vtt\",\"srclang\":\"en\",\"kind\":\"subtitles\",\"label\":\"english\"}])\n```python\ncities = [\"New York\", \"Shanghai\", \"Munich\", \"Tokyo\", \"Dubai\", \"Mexico City\", \"São Paulo\", \"Hyderabad\"]\n\nfor city in cities:\n    print(city)\n```"
    },
    {
      "metadata": {},
      "cell_type": "markdown",
      "source": "# &nbsp;\n<font size=\"6\" color=\"#00A0B2\"  face=\"verdana\"> <B>Examples</B></font>"
    },
    {
      "metadata": {
        "trusted": true
      },
      "cell_type": "code",
      "source": "# [ ] review and run example\ncities = [\"New York\", \"Shanghai\", \"Munich\", \"Tokyo\", \"Dubai\", \"Mexico City\", \"São Paulo\", \"Hyderabad\"]\n\nfor city in cities:\n    print(city)",
      "execution_count": 1,
      "outputs": [
        {
          "output_type": "stream",
          "text": "New York\nShanghai\nMunich\nTokyo\nDubai\nMexico City\nSão Paulo\nHyderabad\n",
          "name": "stdout"
        }
      ]
    },
    {
      "metadata": {
        "trusted": true
      },
      "cell_type": "code",
      "source": "# [ ] review and run example\nsales = [6, 8, 9, 11, 12, 17, 19, 20, 22]\ntotal = 0\n\nfor sale in sales:\n    total += sale\nprint(sales)\nprint(\"total sales:\", total)\n    \n",
      "execution_count": 6,
      "outputs": [
        {
          "output_type": "stream",
          "text": "[6, 8, 9, 11, 12, 17, 19, 20, 22]\ntotal sales: 124\n",
          "name": "stdout"
        }
      ]
    },
    {
      "metadata": {},
      "cell_type": "markdown",
      "source": "change the iterator variable name from \"sale\" to \"dollars\" or to any valid name"
    },
    {
      "metadata": {
        "trusted": true
      },
      "cell_type": "code",
      "source": "# [ ] review and run example \nsales = [6, 8, 9, 11, 12, 17, 19, 20, 22]\ntotal = 0\n\nfor dollars in sales:\n    total += dollars\n    \nprint(\"total sales:\", total)",
      "execution_count": 7,
      "outputs": [
        {
          "output_type": "stream",
          "text": "total sales: 124\n",
          "name": "stdout"
        }
      ]
    },
    {
      "metadata": {
        "collapsed": true
      },
      "cell_type": "markdown",
      "source": "# &nbsp;\n<font size=\"6\" color=\"#B24C00\"  face=\"verdana\"> <B>Task 1</B></font>\n\n### Iterate through Lists using `in`"
    },
    {
      "metadata": {
        "trusted": true
      },
      "cell_type": "code",
      "source": "# [ ] create a list of 4 to 6 strings: birds\n# print each bird in the list\nbirds=[\"gubbi\",\"kagi\",\"koli\",\"batukoli\"]\nnew=\"\"\nfor bird in birds:\n    print(birds)\n    new +=bird\n    print(new)\n\n",
      "execution_count": 12,
      "outputs": [
        {
          "output_type": "stream",
          "text": "['gubbi', 'kagi', 'koli', 'batukoli']\ngubbi\n['gubbi', 'kagi', 'koli', 'batukoli']\ngubbikagi\n['gubbi', 'kagi', 'koli', 'batukoli']\ngubbikagikoli\n['gubbi', 'kagi', 'koli', 'batukoli']\ngubbikagikolibatukoli\n",
          "name": "stdout"
        }
      ]
    },
    {
      "metadata": {
        "trusted": true
      },
      "cell_type": "code",
      "source": "# [ ]  create a list of 7 integers: player_points\nplayer_points=[5,8,6,4,5,9,5]\ndouble=2\n# [ ] print double the points for each point value\nfor player in player_points:\n    double*=player\n    print(player_points)\nprint(double)\n",
      "execution_count": 40,
      "outputs": [
        {
          "output_type": "stream",
          "text": "[5, 8, 6, 4, 5, 9, 5]\n[5, 8, 6, 4, 5, 9, 5]\n[5, 8, 6, 4, 5, 9, 5]\n[5, 8, 6, 4, 5, 9, 5]\n[5, 8, 6, 4, 5, 9, 5]\n[5, 8, 6, 4, 5, 9, 5]\n[5, 8, 6, 4, 5, 9, 5]\n432000\n",
          "name": "stdout"
        }
      ]
    },
    {
      "metadata": {
        "trusted": true
      },
      "cell_type": "code",
      "source": "# [ ] create long_string by concatenating the items in the \"birds\" list previously created\nlong_string=[\"kumbar kagi\",birds]\n# print long_string - make sure to put a space betweeen the bird names\nprint(long_string)\n\n",
      "execution_count": 30,
      "outputs": [
        {
          "output_type": "stream",
          "text": "['kumbar kagi', ['gubbi', 'kagi', 'koli', 'batukoli']]\n",
          "name": "stdout"
        }
      ]
    },
    {
      "metadata": {},
      "cell_type": "markdown",
      "source": "# &nbsp;\n<font size=\"6\" color=\"#00A0B2\"  face=\"verdana\"> <B>Concepts</B></font>\n## Sort and Filter\n\n[![view video](https://iajupyterprodblobs.blob.core.windows.net/imagecontainer/common/play_video.png)]( http://edxinteractivepage.blob.core.windows.net/edxpages/f7cff1a7-5601-48a1-95a6-fd1fdfabd20e.html?details=[{\"src\":\"http://jupyternootbookwams.streaming.mediaservices.windows.net/32652fe3-7d3e-4b7b-b9fb-7f87a6c0ad59/Unit2_Section3.1b-Sort_and_Filter.ism/manifest\",\"type\":\"application/vnd.ms-sstr+xml\"}],[{\"src\":\"http://jupyternootbookwams.streaming.mediaservices.windows.net/32652fe3-7d3e-4b7b-b9fb-7f87a6c0ad59/Unit2_Section3.1b-Sort_and_Filter.vtt\",\"srclang\":\"en\",\"kind\":\"subtitles\",\"label\":\"english\"}])\n### use comparison operators while iterating lists\n"
    },
    {
      "metadata": {},
      "cell_type": "markdown",
      "source": "### &nbsp;\n<font size=\"6\" color=\"#00A0B2\"  face=\"verdana\"> <B>Examples</B></font>"
    },
    {
      "metadata": {
        "trusted": true
      },
      "cell_type": "code",
      "source": "# [ ] review and run example of sorting into strings to display\nfoot_bones = [\"calcaneus\", \"talus\", \"cuboid\", \"navicular\", \"lateral cuneiform\", \n            \"intermediate cuneiform\", \"medial cuneiform\"]\nlonger_names = \"\"\nshorter_names = \"\"\n\nfor bone_name in foot_bones:\n    if len(bone_name) < 10:\n        shorter_names += \"\\n\" + bone_name\n    else:\n        longer_names += \"\\n\" + bone_name\n\nprint(shorter_names)\nprint(longer_names)\n",
      "execution_count": 41,
      "outputs": [
        {
          "output_type": "stream",
          "text": "\ncalcaneus\ntalus\ncuboid\nnavicular\n\nlateral cuneiform\nintermediate cuneiform\nmedial cuneiform\n",
          "name": "stdout"
        }
      ]
    },
    {
      "metadata": {
        "trusted": true
      },
      "cell_type": "code",
      "source": "# [ ] review and run example of sorting into lists\nfoot_bones = [\"calcaneus\", \"talus\", \"cuboid\", \"navicular\", \"lateral cuneiform\", \n            \"intermediate cuneiform\", \"medial cuneiform\"]\nlonger_names = []\nshorter_names = []\n\nfor bone_name in foot_bones:\n    if len(bone_name) < 10:\n        shorter_names.append(bone_name)\n    else:\n        longer_names.append(bone_name)\n\nprint(shorter_names)\nprint(longer_names)",
      "execution_count": 42,
      "outputs": [
        {
          "output_type": "stream",
          "text": "['calcaneus', 'talus', 'cuboid', 'navicular']\n['lateral cuneiform', 'intermediate cuneiform', 'medial cuneiform']\n",
          "name": "stdout"
        }
      ]
    },
    {
      "metadata": {
        "collapsed": true
      },
      "cell_type": "markdown",
      "source": "# &nbsp;\n<font size=\"6\" color=\"#B24C00\"  face=\"verdana\"> <B>Task 2</B></font>\n\n## sort and filter"
    },
    {
      "metadata": {
        "trusted": true
      },
      "cell_type": "code",
      "source": "# [ ] Using cities from the example above iterate throught the list using \"for\"/\"in\"\ncity_names=[\"belgaum\",\"sadalga\",\"mysore\",\"goa\"]\n# [ ] Print only cities starting with \"m\"\ncity_m=\"\"\ncity_o=\"\"\nfor city in city_names:\n    if city.startswith(\"m\"):\n        city_m +=\"\\n\"+city\n    else:\n        city_o+=\"\\n\"+city\nprint(\"City names starts with m are: \",city_m)\nprint(\"City names starts without m are: \",city_o)\n            \n    \n\n",
      "execution_count": 79,
      "outputs": [
        {
          "output_type": "stream",
          "text": "City names starts with m are:  \nmysore\nCity names starts without m are:  \nbelgaum\nsadalga\ngoa\n",
          "name": "stdout"
        }
      ]
    },
    {
      "metadata": {
        "trusted": true
      },
      "cell_type": "code",
      "source": "# [ ] Using cities from the example above iterate throught the list using \"for\"/\"in\"\n# cities = [\"New York\", \"Shanghai\", \"Munich\", \"Tokyo\", \"Dubai\", \"Mexico City\", \"São Paulo\", \"Hyderabad\"]\n# [ ] sort into lists with \"A\" in the city name and without \"A\" in the name: a_city & no_a_city\n\ncities=[\"New York\", \"Shanghai\", \"Munich\", \"Tokyo\", \"Dubai\", \"Mexico City\", \"São Paulo\", \"Hyderabad\"]\n# [ ] Print only cities starting with \"m\"\ncity_a=\"\"\ncity_n=\"\"\nfor city in cities:\n    if city.startswith(\"A\"):\n        city_a +=\"\\n\"+ city \n    else:\n        city_n +=\"\\n\"+ city\nprint(\"City names starts with A are: \",city_a)\nprint(\"City names starts without A are: \",city_n)\n\n",
      "execution_count": 77,
      "outputs": [
        {
          "output_type": "stream",
          "text": "City names starts with A are:  \nCity names starts without A are:  \nNew York\nShanghai\nMunich\nTokyo\nDubai\nMexico City\nSão Paulo\nHyderabad\n",
          "name": "stdout"
        }
      ]
    },
    {
      "metadata": {
        "collapsed": true
      },
      "cell_type": "markdown",
      "source": "# &nbsp;\n<font size=\"6\" color=\"#00A0B2\"  face=\"verdana\"> <B>Concepts</B></font>  \n## More iteration of lists\n## - Counting\n## - Searching\n\n[![view video](https://iajupyterprodblobs.blob.core.windows.net/imagecontainer/common/play_video.png)]( http://edxinteractivepage.blob.core.windows.net/edxpages/f7cff1a7-5601-48a1-95a6-fd1fdfabd20e.html?details=[{\"src\":\"http://jupyternootbookwams.streaming.mediaservices.windows.net/72acdbd5-454d-4900-b381-387ad49596f1/Unit2_Section3.1c_count_in_iteration.ism/manifest\",\"type\":\"application/vnd.ms-sstr+xml\"}],[{\"src\":\"http://jupyternootbookwams.streaming.mediaservices.windows.net/72acdbd5-454d-4900-b381-387ad49596f1/Unit2_Section3.1c_count_in_iteration.vtt\",\"srclang\":\"en\",\"kind\":\"subtitles\",\"label\":\"english\"}])\n### use string methods while iterating lists"
    },
    {
      "metadata": {},
      "cell_type": "markdown",
      "source": "# &nbsp;\n<font size=\"6\" color=\"#00A0B2\"  face=\"verdana\"> <B>Examples</B></font>"
    },
    {
      "metadata": {
        "trusted": true
      },
      "cell_type": "code",
      "source": "# [ ] review and run example\n# iterates the \"cities\" list, count & sum letter \"a\" in each city name\n\ncities = [\"New York\", \"Shanghai\", \"Munich\", \"Tokyo\", \"Dubai\", \"Mexico City\", \"São Paulo\", \"Hyderabad\"]\nsearch_letter = \"a\"\ntotal = 0\n\nfor city_name in cities:\n    total += city_name.lower().count(search_letter)\n\nprint(\"The total # of \\\"\" + search_letter + \"\\\" found in the list is\", total)",
      "execution_count": 83,
      "outputs": [
        {
          "output_type": "stream",
          "text": "The total # of \"a\" found in the list is 6\n",
          "name": "stdout"
        }
      ]
    },
    {
      "metadata": {},
      "cell_type": "markdown",
      "source": "<font size=\"4\" color=\"#00A0B2\"  face=\"verdana\"> <B>search function</B></font>\n[![view video](https://iajupyterprodblobs.blob.core.windows.net/imagecontainer/common/play_video.png)](http://edxinteractivepage.blob.core.windows.net/edxpages/f7cff1a7-5601-48a1-95a6-fd1fdfabd20e.html?details=[{\"src\":\"http://jupyternootbookwams.streaming.mediaservices.windows.net/2fa709be-5857-4291-beee-4d893d93468e/Unit2_Section3.1d_city_search_function.ism/manifest\",\"type\":\"application/vnd.ms-sstr+xml\"}],[{\"src\":\"http://jupyternootbookwams.streaming.mediaservices.windows.net/2fa709be-5857-4291-beee-4d893d93468e/Unit2_Section3.1d_city_search_function.vtt\",\"srclang\":\"en\",\"kind\":\"subtitles\",\"label\":\"english\"}])"
    },
    {
      "metadata": {
        "trusted": false
      },
      "cell_type": "code",
      "source": "# [ ] review and run example\n# city_search function has a default list of cities to search\ndef city_search(search_item, cities = [\"New York\", \"Shanghai\", \"Munich\", \"Tokyo\"] ):\n    for city in cities:\n        if city.lower() == search_item.lower():\n            return True\n        else:\n            # go to the next item\n            pass\n    # no more items in list\n    return False\n\n# a list of cities\nvisited_cities = [\"New York\", \"Shanghai\", \"Munich\", \"Tokyo\", \"Dubai\", \"Mexico City\", \"São Paulo\", \"Hyderabad\"]\n\nsearch = input(\"enter a city visited: \")\n\n# Search the default city list\nprint(search, \"in default cities is\", city_search(search))\n\n# search the list visited_cities using 2nd argument\nprint(search, \"in visitied_cites list is\", city_search(search,visited_cities))",
      "execution_count": null,
      "outputs": []
    },
    {
      "metadata": {},
      "cell_type": "markdown",
      "source": "# &nbsp;\n<font size=\"6\" color=\"#B24C00\"  face=\"verdana\"> <B>Task 3</B></font>  \n## Program: Paint Stock  \ncheck a list for a paint color request and print status of color \"found\"/\"not found\"\n- create list, paint_colors, with 5+ colors\n- get user input of string:color_request\n- iterate through each color in paint_colors to check for a match with color_request"
    },
    {
      "metadata": {
        "trusted": true
      },
      "cell_type": "code",
      "source": "# [ ] complete paint stock\n\n",
      "execution_count": 80,
      "outputs": []
    },
    {
      "metadata": {
        "trusted": true
      },
      "cell_type": "code",
      "source": "numbers = [7, 1, 5, 8, 0]\nfor number in numbers:\n    print(number)",
      "execution_count": 82,
      "outputs": [
        {
          "output_type": "stream",
          "text": "7\n1\n5\n8\n0\n",
          "name": "stdout"
        }
      ]
    },
    {
      "metadata": {
        "collapsed": true
      },
      "cell_type": "markdown",
      "source": "# &nbsp;\n<font size=\"6\" color=\"#B24C00\"  face=\"verdana\"> <B>Task 4</B></font>  \n## Program: Foot Bones Quiz\n**Create a function** that will iterate through foot_bones looking for a match of a string argument\n- Call the function 2 times with the name of a footbone \n- print immediate feedback for each answer (correct - incorrect)\n- print the total # of foot_bones identified\n\n\nThe program will use the foot_bones list:\n```python \nfoot_bones = [\"calcaneus\", \"talus\", \"cuboid\", \"navicular\", \"lateral cuneiform\",\n             \"intermediate cuneiform\", \"medial cuneiform\"]\n```\nBonus: remove correct response item from list if correct so user cannot answer same item twice"
    },
    {
      "metadata": {
        "trusted": false
      },
      "cell_type": "code",
      "source": "# [ ] Complete Foot Bones Quiz\n# foot_bones = [\"calcaneus\", \"talus\", \"cuboid\", \"navicular\", \"lateral cuneiform\",\n#             \"intermediate cuneiform\", \"medial cuneiform\"]\n\n",
      "execution_count": null,
      "outputs": []
    },
    {
      "metadata": {
        "trusted": false
      },
      "cell_type": "code",
      "source": "# [ ] bonus version\n\n",
      "execution_count": null,
      "outputs": []
    },
    {
      "metadata": {
        "collapsed": true
      },
      "cell_type": "markdown",
      "source": "[Terms of use](http://go.microsoft.com/fwlink/?LinkID=206977) &nbsp; [Privacy & cookies](https://go.microsoft.com/fwlink/?LinkId=521839) &nbsp; © 2017 Microsoft"
    }
  ],
  "metadata": {
    "anaconda-cloud": {},
    "kernelspec": {
      "name": "python3",
      "display_name": "Python 3",
      "language": "python"
    },
    "language_info": {
      "mimetype": "text/x-python",
      "nbconvert_exporter": "python",
      "name": "python",
      "file_extension": ".py",
      "version": "3.5.4",
      "pygments_lexer": "ipython3",
      "codemirror_mode": {
        "version": 3,
        "name": "ipython"
      }
    }
  },
  "nbformat": 4,
  "nbformat_minor": 1
}